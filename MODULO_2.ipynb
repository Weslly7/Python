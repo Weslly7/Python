{
  "nbformat": 4,
  "nbformat_minor": 0,
  "metadata": {
    "colab": {
      "provenance": []
    },
    "kernelspec": {
      "name": "python3",
      "display_name": "Python 3"
    },
    "language_info": {
      "name": "python"
    }
  },
  "cells": [
    {
      "cell_type": "markdown",
      "source": [
        "**MODULO 2**"
      ],
      "metadata": {
        "id": "nHpkBe2x-EF3"
      }
    },
    {
      "cell_type": "markdown",
      "source": [
        "ESTRUTURA DE DADOS\n",
        "\n",
        "LISTAS"
      ],
      "metadata": {
        "id": "LcddiqOG-aQH"
      }
    },
    {
      "cell_type": "code",
      "source": [
        "dia_02_saldo_inicial = 1000"
      ],
      "metadata": {
        "id": "CR_Tp-Hd-Lj1"
      },
      "execution_count": 2,
      "outputs": []
    },
    {
      "cell_type": "code",
      "source": [
        "dia_02_transacao_1 = 140\n",
        "dia_02_transacao_2 = 220\n",
        "dia_02_transacao_3 = 58.70\n"
      ],
      "metadata": {
        "id": "gx4anQkZ-7_m"
      },
      "execution_count": 3,
      "outputs": []
    },
    {
      "cell_type": "code",
      "source": [
        "dia_02_saldo_final = dia_02_saldo_inicial + dia_02_transacao_1 + dia_02_transacao_2 + dia_02_transacao_3"
      ],
      "metadata": {
        "id": "M9vmU2c9_VTW"
      },
      "execution_count": 5,
      "outputs": []
    },
    {
      "cell_type": "code",
      "source": [
        "print(dia_02_saldo_final)"
      ],
      "metadata": {
        "colab": {
          "base_uri": "https://localhost:8080/"
        },
        "id": "nbbYVwnp_3Re",
        "outputId": "23979cbc-2eeb-4921-9afc-9dbb63665295"
      },
      "execution_count": 6,
      "outputs": [
        {
          "output_type": "stream",
          "name": "stdout",
          "text": [
            "1418.7\n"
          ]
        }
      ]
    },
    {
      "cell_type": "markdown",
      "source": [
        "**DEFINIÇÃO **"
      ],
      "metadata": {
        "id": "Ltb6N2ECAe7w"
      }
    },
    {
      "cell_type": "code",
      "source": [
        "usuario_web = ['jessica nathalia', 'jessica.nathalia', 'jeje123']\n",
        "print(usuario_web)\n",
        "print(type(usuario_web))"
      ],
      "metadata": {
        "colab": {
          "base_uri": "https://localhost:8080/"
        },
        "id": "8Mxs1KRMAiTX",
        "outputId": "1daedaf3-1e32-4130-a0ec-14ea6c489343"
      },
      "execution_count": 7,
      "outputs": [
        {
          "output_type": "stream",
          "name": "stdout",
          "text": [
            "['jessica nathalia', 'jessica.nathalia', 'jeje123']\n",
            "<class 'list'>\n"
          ]
        }
      ]
    },
    {
      "cell_type": "code",
      "source": [
        "idade = 26\n",
        "saldo_em_conta = 28\n",
        "usuario_loggedin = True\n",
        "\n",
        "usuario_web = ['jessica nathali', idade, 'jessica.nathalia', 'jeje123', saldo_em_conta, usuario_loggedin]\n",
        "\n",
        "print(usuario_web)\n",
        "print(type(usuario_web))\n"
      ],
      "metadata": {
        "colab": {
          "base_uri": "https://localhost:8080/"
        },
        "id": "7CTbLyGjBAuo",
        "outputId": "5c9e7b0f-f033-480a-f8e2-94687408d4c5"
      },
      "execution_count": 8,
      "outputs": [
        {
          "output_type": "stream",
          "name": "stdout",
          "text": [
            "['jessica nathali', 26, 'jessica.nathalia', 'jeje123', 28, True]\n",
            "<class 'list'>\n"
          ]
        }
      ]
    },
    {
      "cell_type": "markdown",
      "source": [
        "**OPERAÇÃO**"
      ],
      "metadata": {
        "id": "PQQxEawkCmeh"
      }
    },
    {
      "cell_type": "markdown",
      "source": [
        "concatenação*\n",
        "\n",
        "Fabricantes de carros"
      ],
      "metadata": {
        "id": "mr6Khk6dC1wX"
      }
    },
    {
      "cell_type": "code",
      "source": [
        "fabricantes_carros_alemanha = ['porsche', 'bmw', 'audi']\n",
        "fabricantes_carros_eua = ['ford', 'gm',]\n",
        "fabricantes_carros = fabricantes_carros_alemanha + fabricantes_carros_eua\n",
        "\n",
        "print(fabricantes_alemanha)\n",
        "print(fabricantes_eua)\n"
      ],
      "metadata": {
        "colab": {
          "base_uri": "https://localhost:8080/"
        },
        "id": "R65X0Ze0C_p1",
        "outputId": "599b44a7-3f83-42db-bff7-55cc0364cf79"
      },
      "execution_count": 16,
      "outputs": [
        {
          "output_type": "stream",
          "name": "stdout",
          "text": [
            "['porsche', 'bmw', 'audi']\n",
            "['ford', 'gm']\n"
          ]
        }
      ]
    },
    {
      "cell_type": "markdown",
      "source": [
        "fatiamento"
      ],
      "metadata": {
        "id": "hZc4bYtHD5e_"
      }
    },
    {
      "cell_type": "code",
      "source": [
        "print(f'0: {fabricantes_carros_alemanha[0]}')\n",
        "print(f'0: {fabricantes_carros_eua[-1]}')"
      ],
      "metadata": {
        "colab": {
          "base_uri": "https://localhost:8080/"
        },
        "id": "j2L4HEBKD6qI",
        "outputId": "5393ce7c-7a21-4674-cf9d-433e9a86de6a"
      },
      "execution_count": 17,
      "outputs": [
        {
          "output_type": "stream",
          "name": "stdout",
          "text": [
            "0: porsche\n",
            "0: gm\n"
          ]
        }
      ]
    },
    {
      "cell_type": "code",
      "source": [
        "print(fabricantes_carros)"
      ],
      "metadata": {
        "colab": {
          "base_uri": "https://localhost:8080/"
        },
        "id": "TwMsift5FyFw",
        "outputId": "1142edef-2c32-4948-adbf-ef7dad982293"
      },
      "execution_count": 18,
      "outputs": [
        {
          "output_type": "stream",
          "name": "stdout",
          "text": [
            "['porsche', 'bmw', 'audi', 'ford', 'gm']\n"
          ]
        }
      ]
    },
    {
      "cell_type": "code",
      "source": [
        "fabricantes_carros[0] = 'porsche'\n",
        "print(fabricantes_carros)"
      ],
      "metadata": {
        "colab": {
          "base_uri": "https://localhost:8080/"
        },
        "id": "-lRcGADwF3hh",
        "outputId": "fb0ce98c-e511-44e2-c081-7aac07a79b8e"
      },
      "execution_count": 21,
      "outputs": [
        {
          "output_type": "stream",
          "name": "stdout",
          "text": [
            "['porsche', 'porsche', 'audi', 'ford', 'gm']\n"
          ]
        }
      ]
    },
    {
      "cell_type": "markdown",
      "source": [
        "METODOS"
      ],
      "metadata": {
        "id": "tn3HH8X6Flds"
      }
    },
    {
      "cell_type": "code",
      "source": [
        "juros = [0.07, 0.14, 1.99, 0.08]\n",
        "print(juros)"
      ],
      "metadata": {
        "colab": {
          "base_uri": "https://localhost:8080/"
        },
        "id": "iVHxwWqkFnSW",
        "outputId": "f5494346-27bb-40ad-8a51-ca66548bee01"
      },
      "execution_count": 22,
      "outputs": [
        {
          "output_type": "stream",
          "name": "stdout",
          "text": [
            "[0.07, 0.14, 1.99, 0.08]\n"
          ]
        }
      ]
    },
    {
      "cell_type": "code",
      "source": [
        "#inserir um elemento sem susbstituir: list.insert(index, val)\n",
        "juros.insert(0, 0.10)\n",
        "print(juros)"
      ],
      "metadata": {
        "colab": {
          "base_uri": "https://localhost:8080/"
        },
        "id": "Vyn2VV7ZH9E0",
        "outputId": "2ad9f3d9-a6cb-4d71-9bb4-a5eeb0ccadcd"
      },
      "execution_count": 23,
      "outputs": [
        {
          "output_type": "stream",
          "name": "stdout",
          "text": [
            "[0.1, 0.07, 0.14, 1.99, 0.08]\n"
          ]
        }
      ]
    },
    {
      "cell_type": "code",
      "source": [
        "#inserir elemento no fim da lista: list.append(val)\n",
        "juros.append(0.09)\n",
        "print(juros)"
      ],
      "metadata": {
        "colab": {
          "base_uri": "https://localhost:8080/"
        },
        "id": "pU8rWE3TIXEF",
        "outputId": "dcdace12-4c4a-4354-ec11-c0bc8ab4c0af"
      },
      "execution_count": 25,
      "outputs": [
        {
          "output_type": "stream",
          "name": "stdout",
          "text": [
            "[0.1, 0.07, 0.14, 1.99, 0.08, 0.09]\n"
          ]
        }
      ]
    },
    {
      "cell_type": "code",
      "source": [
        "# remover um elemento pelo valor: list.remove(val)\n",
        "juros.remove(0.1)\n",
        "print(juros)"
      ],
      "metadata": {
        "colab": {
          "base_uri": "https://localhost:8080/"
        },
        "id": "FPfvgFyRIlfr",
        "outputId": "cd2e3161-c437-40cb-e0bf-f44ae2b5c421"
      },
      "execution_count": 26,
      "outputs": [
        {
          "output_type": "stream",
          "name": "stdout",
          "text": [
            "[0.07, 0.14, 1.99, 0.08, 0.09]\n"
          ]
        }
      ]
    },
    {
      "cell_type": "code",
      "source": [
        "# remover um elemento pelo indice: list.pop(val)\n",
        "terceiro_juros = juros.pop(2)\n",
        "print(terceiro_juros)"
      ],
      "metadata": {
        "colab": {
          "base_uri": "https://localhost:8080/"
        },
        "id": "hMZ_I2zqI9uk",
        "outputId": "ef629295-4b61-4226-bba6-3e2464fa3682"
      },
      "execution_count": 28,
      "outputs": [
        {
          "output_type": "stream",
          "name": "stdout",
          "text": [
            "1.99\n"
          ]
        }
      ]
    },
    {
      "cell_type": "code",
      "source": [
        "print(juros)"
      ],
      "metadata": {
        "colab": {
          "base_uri": "https://localhost:8080/"
        },
        "id": "838DrKEEKmnu",
        "outputId": "516d8c16-0fbc-4cc0-ef54-1f2d8dd4d0a7"
      },
      "execution_count": 29,
      "outputs": [
        {
          "output_type": "stream",
          "name": "stdout",
          "text": [
            "[0.07, 0.14, 0.08, 0.09]\n"
          ]
        }
      ]
    },
    {
      "cell_type": "markdown",
      "source": [
        "**CONVERSÃO**"
      ],
      "metadata": {
        "id": "0x1qNQAuK4KX"
      }
    },
    {
      "cell_type": "code",
      "source": [
        "email = 'wesllyoliveira77@icloud.com'\n",
        "caracteres_email = list(email)\n",
        "\n",
        "print(email)\n",
        "print(caracteres_email)\n"
      ],
      "metadata": {
        "colab": {
          "base_uri": "https://localhost:8080/"
        },
        "id": "rhtP9d97K7mc",
        "outputId": "2ea9bc7d-61d0-4128-fda2-7d7af4885d1d"
      },
      "execution_count": 30,
      "outputs": [
        {
          "output_type": "stream",
          "name": "stdout",
          "text": [
            "wesllyoliveira77@icloud.com\n",
            "['w', 'e', 's', 'l', 'l', 'y', 'o', 'l', 'i', 'v', 'e', 'i', 'r', 'a', '7', '7', '@', 'i', 'c', 'l', 'o', 'u', 'd', '.', 'c', 'o', 'm']\n"
          ]
        }
      ]
    }
  ]
}